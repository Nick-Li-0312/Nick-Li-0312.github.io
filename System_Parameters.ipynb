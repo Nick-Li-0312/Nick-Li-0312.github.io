{
  "nbformat": 4,
  "nbformat_minor": 0,
  "metadata": {
    "colab": {
      "name": "System_Parameters.ipynb",
      "provenance": [],
      "authorship_tag": "ABX9TyMBL3hl5c7GRGvFj4z79Tvm",
      "include_colab_link": true
    },
    "kernelspec": {
      "name": "python3",
      "display_name": "Python 3"
    },
    "language_info": {
      "name": "python"
    }
  },
  "cells": [
    {
      "cell_type": "markdown",
      "metadata": {
        "id": "view-in-github",
        "colab_type": "text"
      },
      "source": [
        "<a href=\"https://colab.research.google.com/github/Nick-Li-0312/Nick-Li-0312.github.io/blob/master/System_Parameters.ipynb\" target=\"_parent\"><img src=\"https://colab.research.google.com/assets/colab-badge.svg\" alt=\"Open In Colab\"/></a>"
      ]
    },
    {
      "cell_type": "code",
      "execution_count": null,
      "metadata": {
        "id": "u26oMveUd3Yh"
      },
      "outputs": [],
      "source": [
        "# Dictionary data type recording channel access priority class parameters\n",
        "\n",
        "priority_1={'mp':2,'MCOT':2,'CW_list':[3,7]}\n",
        "priority_2={'mp':2,'MCOT':4,'CW_list':[7,15]}\n",
        "priority_3={'mp':3,'MCOT':10,'CW_list':[15,31,63,127,255,511,1023]}\n",
        "priority_4={'mp':7,'MCOT':10,'CW_list':[15,31,63,127,255,511,1023]}\n",
        "\n",
        "#補充:\n",
        "#MCOT of p3,p4, may be 6 or 10. 10 is adopted when absence of other technology is provided. "
      ]
    }
  ]
}